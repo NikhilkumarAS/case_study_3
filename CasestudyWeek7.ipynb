{
 "cells": [
  {
   "cell_type": "code",
   "execution_count": 1,
   "id": "2f8ef78b",
   "metadata": {},
   "outputs": [],
   "source": [
    "import pandas as pd\n",
    "import matplotlib.pyplot as plt\n",
    "import seaborn as sns\n",
    "import numpy as np\n",
    "import sklearn"
   ]
  },
  {
   "cell_type": "code",
   "execution_count": 2,
   "id": "eb738a73",
   "metadata": {},
   "outputs": [
    {
     "data": {
      "text/html": [
       "<div>\n",
       "<style scoped>\n",
       "    .dataframe tbody tr th:only-of-type {\n",
       "        vertical-align: middle;\n",
       "    }\n",
       "\n",
       "    .dataframe tbody tr th {\n",
       "        vertical-align: top;\n",
       "    }\n",
       "\n",
       "    .dataframe thead th {\n",
       "        text-align: right;\n",
       "    }\n",
       "</style>\n",
       "<table border=\"1\" class=\"dataframe\">\n",
       "  <thead>\n",
       "    <tr style=\"text-align: right;\">\n",
       "      <th></th>\n",
       "      <th>Date</th>\n",
       "      <th>Add1(in Thousands)</th>\n",
       "      <th>Add2(in Thousands)</th>\n",
       "      <th>Add3(in Thousands)</th>\n",
       "      <th>Add4(in Thousands)</th>\n",
       "      <th>Add5(in Thousands)</th>\n",
       "      <th>Profit(in Thousands)</th>\n",
       "    </tr>\n",
       "  </thead>\n",
       "  <tbody>\n",
       "    <tr>\n",
       "      <th>0</th>\n",
       "      <td>2018-10-08</td>\n",
       "      <td>208.00</td>\n",
       "      <td>222.25</td>\n",
       "      <td>206.85</td>\n",
       "      <td>216.00</td>\n",
       "      <td>215.15</td>\n",
       "      <td>4093.065</td>\n",
       "    </tr>\n",
       "    <tr>\n",
       "      <th>1</th>\n",
       "      <td>2018-10-05</td>\n",
       "      <td>217.00</td>\n",
       "      <td>218.60</td>\n",
       "      <td>205.90</td>\n",
       "      <td>210.25</td>\n",
       "      <td>209.20</td>\n",
       "      <td>4042.448</td>\n",
       "    </tr>\n",
       "    <tr>\n",
       "      <th>2</th>\n",
       "      <td>2018-10-04</td>\n",
       "      <td>223.50</td>\n",
       "      <td>227.80</td>\n",
       "      <td>216.15</td>\n",
       "      <td>217.25</td>\n",
       "      <td>218.20</td>\n",
       "      <td>4213.819</td>\n",
       "    </tr>\n",
       "    <tr>\n",
       "      <th>3</th>\n",
       "      <td>2018-10-03</td>\n",
       "      <td>230.00</td>\n",
       "      <td>237.50</td>\n",
       "      <td>225.75</td>\n",
       "      <td>226.45</td>\n",
       "      <td>227.60</td>\n",
       "      <td>4391.665</td>\n",
       "    </tr>\n",
       "    <tr>\n",
       "      <th>4</th>\n",
       "      <td>2018-10-01</td>\n",
       "      <td>234.55</td>\n",
       "      <td>234.60</td>\n",
       "      <td>221.05</td>\n",
       "      <td>230.30</td>\n",
       "      <td>230.90</td>\n",
       "      <td>4350.683</td>\n",
       "    </tr>\n",
       "  </tbody>\n",
       "</table>\n",
       "</div>"
      ],
      "text/plain": [
       "         Date  Add1(in Thousands)  Add2(in Thousands)  Add3(in Thousands)  \\\n",
       "0  2018-10-08              208.00              222.25              206.85   \n",
       "1  2018-10-05              217.00              218.60              205.90   \n",
       "2  2018-10-04              223.50              227.80              216.15   \n",
       "3  2018-10-03              230.00              237.50              225.75   \n",
       "4  2018-10-01              234.55              234.60              221.05   \n",
       "\n",
       "   Add4(in Thousands)  Add5(in Thousands)  Profit(in Thousands)  \n",
       "0              216.00              215.15              4093.065  \n",
       "1              210.25              209.20              4042.448  \n",
       "2              217.25              218.20              4213.819  \n",
       "3              226.45              227.60              4391.665  \n",
       "4              230.30              230.90              4350.683  "
      ]
     },
     "execution_count": 2,
     "metadata": {},
     "output_type": "execute_result"
    }
   ],
   "source": [
    "df=pd.read_csv(r'C:\\Users\\Vimal\\Desktop\\DAS\\week7\\Add_sales_data_2018.csv')\n",
    "df.head()"
   ]
  },
  {
   "cell_type": "code",
   "execution_count": 3,
   "id": "8baa328e",
   "metadata": {},
   "outputs": [
    {
     "data": {
      "text/plain": [
       "Date                    0\n",
       "Add1(in Thousands)      0\n",
       "Add2(in Thousands)      0\n",
       "Add3(in Thousands)      0\n",
       "Add4(in Thousands)      0\n",
       "Add5(in Thousands)      0\n",
       "Profit(in Thousands)    0\n",
       "dtype: int64"
      ]
     },
     "execution_count": 3,
     "metadata": {},
     "output_type": "execute_result"
    }
   ],
   "source": [
    "df.isnull().sum()"
   ]
  },
  {
   "cell_type": "code",
   "execution_count": 4,
   "id": "e6e4b924",
   "metadata": {},
   "outputs": [
    {
     "data": {
      "text/plain": [
       "Index(['Date', 'Add1(in Thousands)', 'Add2(in Thousands)',\n",
       "       'Add3(in Thousands)', 'Add4(in Thousands)', 'Add5(in Thousands)',\n",
       "       'Profit(in Thousands)'],\n",
       "      dtype='object')"
      ]
     },
     "execution_count": 4,
     "metadata": {},
     "output_type": "execute_result"
    }
   ],
   "source": [
    "df.columns"
   ]
  },
  {
   "cell_type": "code",
   "execution_count": null,
   "id": "76dee21e",
   "metadata": {},
   "outputs": [],
   "source": []
  },
  {
   "cell_type": "markdown",
   "id": "4d0adad0",
   "metadata": {},
   "source": [
    "# 1.Relationship between the amount spent for advertising through five different companies and profit generated."
   ]
  },
  {
   "cell_type": "code",
   "execution_count": null,
   "id": "459407bd",
   "metadata": {},
   "outputs": [],
   "source": []
  },
  {
   "cell_type": "code",
   "execution_count": 5,
   "id": "ecc57532",
   "metadata": {},
   "outputs": [
    {
     "data": {
      "text/html": [
       "<div>\n",
       "<style scoped>\n",
       "    .dataframe tbody tr th:only-of-type {\n",
       "        vertical-align: middle;\n",
       "    }\n",
       "\n",
       "    .dataframe tbody tr th {\n",
       "        vertical-align: top;\n",
       "    }\n",
       "\n",
       "    .dataframe thead th {\n",
       "        text-align: right;\n",
       "    }\n",
       "</style>\n",
       "<table border=\"1\" class=\"dataframe\">\n",
       "  <thead>\n",
       "    <tr style=\"text-align: right;\">\n",
       "      <th></th>\n",
       "      <th>Add1(in Thousands)</th>\n",
       "      <th>Add2(in Thousands)</th>\n",
       "      <th>Add3(in Thousands)</th>\n",
       "      <th>Add4(in Thousands)</th>\n",
       "      <th>Add5(in Thousands)</th>\n",
       "      <th>Profit(in Thousands)</th>\n",
       "    </tr>\n",
       "  </thead>\n",
       "  <tbody>\n",
       "    <tr>\n",
       "      <th>Add1(in Thousands)</th>\n",
       "      <td>1.000000</td>\n",
       "      <td>0.990976</td>\n",
       "      <td>0.986274</td>\n",
       "      <td>0.976365</td>\n",
       "      <td>0.976716</td>\n",
       "      <td>0.991975</td>\n",
       "    </tr>\n",
       "    <tr>\n",
       "      <th>Add2(in Thousands)</th>\n",
       "      <td>0.990976</td>\n",
       "      <td>1.000000</td>\n",
       "      <td>0.987990</td>\n",
       "      <td>0.989921</td>\n",
       "      <td>0.990285</td>\n",
       "      <td>0.999145</td>\n",
       "    </tr>\n",
       "    <tr>\n",
       "      <th>Add3(in Thousands)</th>\n",
       "      <td>0.986274</td>\n",
       "      <td>0.987990</td>\n",
       "      <td>1.000000</td>\n",
       "      <td>0.991343</td>\n",
       "      <td>0.991908</td>\n",
       "      <td>0.993389</td>\n",
       "    </tr>\n",
       "    <tr>\n",
       "      <th>Add4(in Thousands)</th>\n",
       "      <td>0.976365</td>\n",
       "      <td>0.989921</td>\n",
       "      <td>0.991343</td>\n",
       "      <td>1.000000</td>\n",
       "      <td>0.999699</td>\n",
       "      <td>0.993346</td>\n",
       "    </tr>\n",
       "    <tr>\n",
       "      <th>Add5(in Thousands)</th>\n",
       "      <td>0.976716</td>\n",
       "      <td>0.990285</td>\n",
       "      <td>0.991908</td>\n",
       "      <td>0.999699</td>\n",
       "      <td>1.000000</td>\n",
       "      <td>0.993710</td>\n",
       "    </tr>\n",
       "    <tr>\n",
       "      <th>Profit(in Thousands)</th>\n",
       "      <td>0.991975</td>\n",
       "      <td>0.999145</td>\n",
       "      <td>0.993389</td>\n",
       "      <td>0.993346</td>\n",
       "      <td>0.993710</td>\n",
       "      <td>1.000000</td>\n",
       "    </tr>\n",
       "  </tbody>\n",
       "</table>\n",
       "</div>"
      ],
      "text/plain": [
       "                      Add1(in Thousands)  Add2(in Thousands)  \\\n",
       "Add1(in Thousands)              1.000000            0.990976   \n",
       "Add2(in Thousands)              0.990976            1.000000   \n",
       "Add3(in Thousands)              0.986274            0.987990   \n",
       "Add4(in Thousands)              0.976365            0.989921   \n",
       "Add5(in Thousands)              0.976716            0.990285   \n",
       "Profit(in Thousands)            0.991975            0.999145   \n",
       "\n",
       "                      Add3(in Thousands)  Add4(in Thousands)  \\\n",
       "Add1(in Thousands)              0.986274            0.976365   \n",
       "Add2(in Thousands)              0.987990            0.989921   \n",
       "Add3(in Thousands)              1.000000            0.991343   \n",
       "Add4(in Thousands)              0.991343            1.000000   \n",
       "Add5(in Thousands)              0.991908            0.999699   \n",
       "Profit(in Thousands)            0.993389            0.993346   \n",
       "\n",
       "                      Add5(in Thousands)  Profit(in Thousands)  \n",
       "Add1(in Thousands)              0.976716              0.991975  \n",
       "Add2(in Thousands)              0.990285              0.999145  \n",
       "Add3(in Thousands)              0.991908              0.993389  \n",
       "Add4(in Thousands)              0.999699              0.993346  \n",
       "Add5(in Thousands)              1.000000              0.993710  \n",
       "Profit(in Thousands)            0.993710              1.000000  "
      ]
     },
     "execution_count": 5,
     "metadata": {},
     "output_type": "execute_result"
    }
   ],
   "source": [
    "df.corr()"
   ]
  },
  {
   "cell_type": "code",
   "execution_count": 6,
   "id": "5de74bed",
   "metadata": {},
   "outputs": [
    {
     "data": {
      "text/plain": [
       "<AxesSubplot:>"
      ]
     },
     "execution_count": 6,
     "metadata": {},
     "output_type": "execute_result"
    },
    {
     "data": {
      "image/png": "[encoded data removed]",
      "text/plain": [
       "<Figure size 432x288 with 2 Axes>"
      ]
     },
     "metadata": {
      "needs_background": "light"
     },
     "output_type": "display_data"
    }
   ],
   "source": [
    "sns.heatmap(df.corr(),annot=True)"
   ]
  },
  {
   "cell_type": "code",
   "execution_count": 7,
   "id": "29a424f3",
   "metadata": {},
   "outputs": [
    {
     "data": {
      "text/plain": [
       "<Figure size 720x576 with 0 Axes>"
      ]
     },
     "metadata": {},
     "output_type": "display_data"
    },
    {
     "data": {
      "image/png": "[encoded data removed]",
      "text/plain": [
       "<Figure size 900x180 with 5 Axes>"
      ]
     },
     "metadata": {
      "needs_background": "light"
     },
     "output_type": "display_data"
    }
   ],
   "source": [
    "plt.figure(figsize=(10,8))\n",
    "sns.pairplot(df, x_vars=[\"Add1(in Thousands)\",\"Add2(in Thousands)\",\"Add3(in Thousands)\",\"Add4(in Thousands)\",\n",
    "                         \"Add5(in Thousands)\"],y_vars=\"Profit(in Thousands)\")\n",
    "plt.show()"
   ]
  },
  {
   "cell_type": "markdown",
   "id": "92bc6e43",
   "metadata": {},
   "source": [
    "  Heat map and the scaterd plot clearly shows there is a strong positive correlation between profit and adds"
   ]
  },
  {
   "cell_type": "markdown",
   "id": "d56be851",
   "metadata": {},
   "source": [
    "# 2 . A regression model to predict the profit"
   ]
  },
  {
   "cell_type": "code",
   "execution_count": null,
   "id": "f4ae57b1",
   "metadata": {},
   "outputs": [],
   "source": []
  },
  {
   "cell_type": "code",
   "execution_count": 8,
   "id": "f0444db5",
   "metadata": {},
   "outputs": [],
   "source": [
    "y=df[\"Profit(in Thousands)\"]\n",
    "x=df.drop([\"Profit(in Thousands)\",\"Date\"], axis=1)"
   ]
  },
  {
   "cell_type": "code",
   "execution_count": 9,
   "id": "a3fd9705",
   "metadata": {},
   "outputs": [],
   "source": [
    "from sklearn.model_selection import train_test_split\n",
    "x_train,x_test,y_train,y_test=train_test_split(x,y,random_state=42,train_size=0.7)"
   ]
  },
  {
   "cell_type": "code",
   "execution_count": 10,
   "id": "e7e91bee",
   "metadata": {},
   "outputs": [],
   "source": [
    "from sklearn import linear_model\n",
    "lr=linear_model.LinearRegression()\n",
    "model=lr.fit(x_train,y_train)"
   ]
  },
  {
   "cell_type": "code",
   "execution_count": 11,
   "id": "225f33fb",
   "metadata": {},
   "outputs": [
    {
     "data": {
      "text/plain": [
       "array([4152.066, 4446.441, 5131.898, 4907.56 , 5004.282, 4623.793,\n",
       "       5384.175, 5328.025, 5175.051, 5956.323, 5780.799, 4997.719,\n",
       "       5075.858, 5784.54 , 4936.12 , 5065.652, 4190.965, 5034.726,\n",
       "       5015.536, 5134.657, 5145.131, 5421.94 , 4569.293, 4598.292,\n",
       "       4436.321, 4175.677, 5616.791, 5667.25 , 4648.834, 5717.838,\n",
       "       5001.615, 5182.368, 5017.503, 5545.013, 5013.207, 5030.451,\n",
       "       5108.626, 4760.877, 4606.34 , 4925.861, 5250.788, 5038.222,\n",
       "       5491.792, 5019.997, 4647.356, 4486.38 , 4435.174, 5300.437,\n",
       "       5425.19 , 4482.183, 4193.095, 6062.457, 4887.296, 5805.521,\n",
       "       4705.198, 4404.686, 5465.277, 4947.72 , 5185.639, 5225.14 ,\n",
       "       5111.806, 5518.561])"
      ]
     },
     "execution_count": 11,
     "metadata": {},
     "output_type": "execute_result"
    }
   ],
   "source": [
    "prediction=model.predict(x_test)\n",
    "prediction"
   ]
  },
  {
   "cell_type": "code",
   "execution_count": 12,
   "id": "b705c954",
   "metadata": {},
   "outputs": [
    {
     "data": {
      "text/html": [
       "<div>\n",
       "<style scoped>\n",
       "    .dataframe tbody tr th:only-of-type {\n",
       "        vertical-align: middle;\n",
       "    }\n",
       "\n",
       "    .dataframe tbody tr th {\n",
       "        vertical-align: top;\n",
       "    }\n",
       "\n",
       "    .dataframe thead th {\n",
       "        text-align: right;\n",
       "    }\n",
       "</style>\n",
       "<table border=\"1\" class=\"dataframe\">\n",
       "  <thead>\n",
       "    <tr style=\"text-align: right;\">\n",
       "      <th></th>\n",
       "      <th>Actual Value</th>\n",
       "      <th>Predicted value</th>\n",
       "    </tr>\n",
       "  </thead>\n",
       "  <tbody>\n",
       "    <tr>\n",
       "      <th>15</th>\n",
       "      <td>4152.066</td>\n",
       "      <td>4152.066</td>\n",
       "    </tr>\n",
       "    <tr>\n",
       "      <th>9</th>\n",
       "      <td>4446.441</td>\n",
       "      <td>4446.441</td>\n",
       "    </tr>\n",
       "    <tr>\n",
       "      <th>100</th>\n",
       "      <td>5131.898</td>\n",
       "      <td>5131.898</td>\n",
       "    </tr>\n",
       "    <tr>\n",
       "      <th>132</th>\n",
       "      <td>4907.560</td>\n",
       "      <td>4907.560</td>\n",
       "    </tr>\n",
       "    <tr>\n",
       "      <th>68</th>\n",
       "      <td>5004.282</td>\n",
       "      <td>5004.282</td>\n",
       "    </tr>\n",
       "    <tr>\n",
       "      <th>...</th>\n",
       "      <td>...</td>\n",
       "      <td>...</td>\n",
       "    </tr>\n",
       "    <tr>\n",
       "      <th>56</th>\n",
       "      <td>4947.720</td>\n",
       "      <td>4947.720</td>\n",
       "    </tr>\n",
       "    <tr>\n",
       "      <th>128</th>\n",
       "      <td>5185.639</td>\n",
       "      <td>5185.639</td>\n",
       "    </tr>\n",
       "    <tr>\n",
       "      <th>76</th>\n",
       "      <td>5225.140</td>\n",
       "      <td>5225.140</td>\n",
       "    </tr>\n",
       "    <tr>\n",
       "      <th>144</th>\n",
       "      <td>5111.806</td>\n",
       "      <td>5111.806</td>\n",
       "    </tr>\n",
       "    <tr>\n",
       "      <th>104</th>\n",
       "      <td>5518.561</td>\n",
       "      <td>5518.561</td>\n",
       "    </tr>\n",
       "  </tbody>\n",
       "</table>\n",
       "<p>62 rows × 2 columns</p>\n",
       "</div>"
      ],
      "text/plain": [
       "     Actual Value  Predicted value\n",
       "15       4152.066         4152.066\n",
       "9        4446.441         4446.441\n",
       "100      5131.898         5131.898\n",
       "132      4907.560         4907.560\n",
       "68       5004.282         5004.282\n",
       "..            ...              ...\n",
       "56       4947.720         4947.720\n",
       "128      5185.639         5185.639\n",
       "76       5225.140         5225.140\n",
       "144      5111.806         5111.806\n",
       "104      5518.561         5518.561\n",
       "\n",
       "[62 rows x 2 columns]"
      ]
     },
     "execution_count": 12,
     "metadata": {},
     "output_type": "execute_result"
    }
   ],
   "source": [
    "data_com=pd.DataFrame(data={\"Actual Value\":y_test,\"Predicted value\":prediction})\n",
    "data_com"
   ]
  },
  {
   "cell_type": "markdown",
   "id": "b8124b65",
   "metadata": {},
   "source": [
    "From the table we can see that the actual value are very close to predected one"
   ]
  },
  {
   "cell_type": "code",
   "execution_count": 13,
   "id": "270c10c7",
   "metadata": {},
   "outputs": [
    {
     "data": {
      "text/plain": [
       "1.0"
      ]
     },
     "execution_count": 13,
     "metadata": {},
     "output_type": "execute_result"
    }
   ],
   "source": [
    "from sklearn.metrics import r2_score\n",
    "r2Score = r2_score(prediction, y_test)\n",
    "r2Score"
   ]
  },
  {
   "cell_type": "code",
   "execution_count": 14,
   "id": "eabf484b",
   "metadata": {},
   "outputs": [
    {
     "name": "stdout",
     "output_type": "stream",
     "text": [
      "Mean squared error is: 3.428797055260131e-24\n"
     ]
    }
   ],
   "source": [
    "from sklearn.metrics import mean_squared_error\n",
    "print(\"Mean squared error is:\",mean_squared_error(y_test,prediction))"
   ]
  },
  {
   "cell_type": "markdown",
   "id": "e186af0d",
   "metadata": {},
   "source": [
    "Here Mean squared error is  3.42 and r2Score is 1 which shows its a good model"
   ]
  },
  {
   "cell_type": "markdown",
   "id": "ecccbc29",
   "metadata": {},
   "source": [
    "# 3.Predict the profit generated by the company"
   ]
  },
  {
   "cell_type": "code",
   "execution_count": 15,
   "id": "7688e4bc",
   "metadata": {},
   "outputs": [
    {
     "name": "stdout",
     "output_type": "stream",
     "text": [
      "The predicted value is 5820.059999999999\n"
     ]
    }
   ],
   "source": [
    "profit_prd={'Add1':[290],'Add2':[312],'Add3':[309],'Add4':[298],'Add5':[320]}\n",
    "profit_prd=pd.DataFrame(profit_prd)\n",
    "profit_prd\n",
    "prediction2=model.predict(profit_prd)\n",
    "print(\"The predicted value is\",prediction2[0])"
   ]
  },
  {
   "cell_type": "code",
   "execution_count": null,
   "id": "a6cbce21",
   "metadata": {},
   "outputs": [],
   "source": []
  }
 ],
 "metadata": {
  "kernelspec": {
   "display_name": "Python 3",
   "language": "python",
   "name": "python3"
  },
  "language_info": {
   "codemirror_mode": {
    "name": "ipython",
    "version": 3
   },
   "file_extension": ".py",
   "mimetype": "text/x-python",
   "name": "python",
   "nbconvert_exporter": "python",
   "pygments_lexer": "ipython3",
   "version": "3.8.8"
  }
 },
 "nbformat": 4,
 "nbformat_minor": 5
}
